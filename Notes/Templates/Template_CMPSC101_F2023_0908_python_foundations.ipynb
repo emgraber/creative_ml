{
  "cells": [
    {
      "cell_type": "markdown",
      "metadata": {
        "id": "view-in-github",
        "colab_type": "text"
      },
      "source": [
        "<a href=\"https://colab.research.google.com/github/emgraber/creative_ml/blob/main/Notes/Templates/Template_CMPSC101_F2023_0908_python_foundations.ipynb\" target=\"_parent\"><img src=\"https://colab.research.google.com/assets/colab-badge.svg\" alt=\"Open In Colab\"/></a>"
      ]
    },
    {
      "cell_type": "markdown",
      "metadata": {
        "id": "u45m3EnQWu9I"
      },
      "source": [
        "# Resources\n",
        "- `pyproject.toml` files within `poetry` are described [here](https://python-poetry.org/docs/basic-usage/)\n",
        "- about Colab: https://colab.research.google.com/notebooks/basic_features_overview.ipynb\n",
        "- https://proactiveprogrammers.com/data-abstraction/schedule-data-abstraction/#python-foundations"
      ]
    },
    {
      "cell_type": "code",
      "execution_count": null,
      "metadata": {
        "id": "WkEJRi1d2xQB"
      },
      "outputs": [],
      "source": [
        "# Programming Skils ---------------------------------------------------------\n",
        "#\n",
        "#   What are ways to square a number"
      ]
    },
    {
      "cell_type": "code",
      "execution_count": null,
      "metadata": {
        "colab": {
          "background_save": true
        },
        "id": "6iJSsKUJFCSL"
      },
      "outputs": [],
      "source": [
        "# squaring with `for`\n",
        "\n",
        "# define a function that does not correctly compute\n",
        "# the square of a number through the exclusive use\n",
        "# of iteration and addition\n",
        "\n",
        "\n"
      ]
    },
    {
      "cell_type": "code",
      "execution_count": null,
      "metadata": {
        "id": "ObY3Xx1OFIjk"
      },
      "outputs": [],
      "source": [
        "# attempt to compute the square of a number using\n",
        "# the previously defined function. Note that this\n",
        "# is calling the function with a positive number.\n",
        "# What would happen if it was called with a negative\n",
        "# number? Let's try that in the next cell, okay?\n",
        "\n"
      ]
    },
    {
      "cell_type": "code",
      "execution_count": null,
      "metadata": {
        "id": "HZkG7gt1FbVB"
      },
      "outputs": [],
      "source": [
        "# check if something can be convereted to an int"
      ]
    },
    {
      "cell_type": "code",
      "execution_count": null,
      "metadata": {
        "id": "XdFd0AB0FiJD"
      },
      "outputs": [],
      "source": [
        "# Markdown ------------------------------------\n",
        "\n",
        "#   headings\n",
        "#   fenced code block\n",
        "#   designate language\n",
        "#   listing in md (numbered unnumbered)\n",
        "#   VS Code markdown preview\n",
        "#   GH markdown preview\n",
        "#   poetry run task markdownlint\n",
        "\n",
        "\n",
        "# Navigating Source Code ------------------------------------\n",
        "\n",
        "#   in VS Code, declaration and reference\n",
        "#   Command Palette\n",
        "#   example main.py in integer square\n",
        "#   pyproject.toml file\n",
        "#   gatorgrade.yml\n",
        "#       \"Have at least a specific minimum of commits in repository\"\n",
        "\n",
        "\n",
        "# Formatting Source Code ------------------------------------\n",
        "\n",
        "#   line breaks in python\n",
        "#   Docstring\n",
        "#   poetry run task black\n",
        "#   poetry run task pylint\n",
        "#   poetry run task flake8\n",
        "#   poetry run task all\n",
        "\n",
        "\n",
        "# git -----------------------------------------------------------------------\n",
        "\n",
        "#   git vs GitHib\n",
        "#   git to clone, stage changes, commit, and push (push not recommended for every commit)\n"
      ]
    }
  ],
  "metadata": {
    "colab": {
      "provenance": [],
      "authorship_tag": "ABX9TyMjXq93WELAbOe/4dmyoTR5",
      "include_colab_link": true
    },
    "kernelspec": {
      "display_name": "Python 3",
      "name": "python3"
    },
    "language_info": {
      "name": "python"
    }
  },
  "nbformat": 4,
  "nbformat_minor": 0
}