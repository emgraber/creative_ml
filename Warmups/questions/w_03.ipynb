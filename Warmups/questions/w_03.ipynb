{
  "nbformat": 4,
  "nbformat_minor": 0,
  "metadata": {
    "colab": {
      "provenance": [],
      "authorship_tag": "ABX9TyO2Z1HoR510FaoRJlC84MYy",
      "include_colab_link": true
    },
    "kernelspec": {
      "name": "python3",
      "display_name": "Python 3"
    },
    "language_info": {
      "name": "python"
    }
  },
  "cells": [
    {
      "cell_type": "markdown",
      "metadata": {
        "id": "view-in-github",
        "colab_type": "text"
      },
      "source": [
        "<a href=\"https://colab.research.google.com/github/emgraber/creative_ml/blob/main/Warmups/questions/w_03.ipynb\" target=\"_parent\"><img src=\"https://colab.research.google.com/assets/colab-badge.svg\" alt=\"Open In Colab\"/></a>"
      ]
    },
    {
      "cell_type": "markdown",
      "source": [
        "List Comprehension Examples - reordering control statements inside [ ]"
      ],
      "metadata": {
        "id": "4hD5FVj_dxrP"
      }
    },
    {
      "cell_type": "code",
      "source": [
        "# Exlain each line below with a comment(s)\n",
        "# Mention what is unique about each one, mention what is similar about each one.\n",
        "# Make sure you can explain the unexpected_list example\n",
        "# What makes the last line crash?\n",
        "\n",
        "import random\n",
        "\n",
        "print(\"Ex 1:\", [i for i in range(10)])\n",
        "print(\"Ex 2:\", [i*i for i in range(10)])\n",
        "print(\"Ex 3:\", [i*0 for i in range(10)])\n",
        "print(\"Ex 4:\", [i for i in range(10) if i%2 == 0])\n",
        "print(\"Ex 5:\", [i for i in range(10) if i%2 != 0])\n",
        "print(\"Ex 6:\", [i for i in range(10) if i%2 == 1])\n",
        "print(\"Ex 7:\", [i for i in range(10) if i%2 != 1])\n",
        "\n",
        "randomnfloat = random.random()\n",
        "print(\"Ex 8:\", [randomnfloat for i in range(10)])\n",
        "print(\"Ex 9:\", [random.random() for i in range(10)])\n",
        "print(\"Ex 10:\", [random.random() for _ in range(10)])\n",
        "print(\"Ex 11:\", [float('%.2g' % random.random()) for halloween in range(10)])\n",
        "print(\"Ex 12:\", [float('%.3g' % random.random()) for qwerty in range(10)])\n",
        "\n",
        "unexpected_list = []\n",
        "print(\"Ex 13:\", [unexpected_list.append(i) for i in range(10) if i%2 != 1])\n",
        "print(\"unexpected_list: \", unexpected_list)\n",
        "print(\"unexpected_list.append('hello'):\", unexpected_list.append('hello'))\n",
        "\n",
        "print(\"Ex 14:\", [abs(i) for i in [-10, 30, -2.6, 15]])\n",
        "print(\"Ex 15:\", [(lambda x: x*10)(x) for x in range(10)])\n",
        "print(\"Ex 16:\", [x*10 for x in range(10)])\n",
        "print(\"Ex 17:\", [x*10 for _ in range(10)])\n"
      ],
      "metadata": {
        "id": "rdmHMGphEKzL"
      },
      "execution_count": null,
      "outputs": []
    }
  ]
}